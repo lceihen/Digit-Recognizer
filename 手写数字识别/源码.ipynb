{
 "cells": [
  {
   "cell_type": "code",
   "execution_count": 11,
   "metadata": {},
   "outputs": [],
   "source": [
    "import numpy as np\n",
    "import pandas as pd \n",
    "import matplotlib.pyplot as plt\n",
    "import seaborn as sns#数据可视化\n",
    "from keras.models import Sequential#顺序建立神经网络\n",
    "from keras.layers import Dense#连接层\n",
    "from keras.optimizers import Adam#优化器\n",
    "from keras.utils.np_utils import to_categorical#one-host编码\n",
    "from keras.layers import Dropout, Flatten ,BatchNormalization , MaxPool2D#dropout正则化、压平、批量标准化、池化层\n",
    "from keras.layers.convolutional import Conv2D#卷积层\n",
    "from keras.preprocessing.image import ImageDataGenerator#预处理数据增强\n",
    "from sklearn.model_selection import train_test_split\n",
    "import os#路径问题"
   ]
  },
  {
   "cell_type": "code",
   "execution_count": 12,
   "metadata": {},
   "outputs": [],
   "source": [
    "ds_train=pd.read_csv(\"train.csv\")\n",
    "ds_test=pd.read_csv(\"test.csv\")"
   ]
  },
  {
   "cell_type": "code",
   "execution_count": 13,
   "metadata": {},
   "outputs": [
    {
     "name": "stdout",
     "output_type": "stream",
     "text": [
      "Train dataset : (42000, 785)\n"
     ]
    }
   ],
   "source": [
    "print(\"Train dataset :\",ds_train.shape)\n",
    "#print(\"Test dataset :\",ds_test.shape)"
   ]
  },
  {
   "cell_type": "code",
   "execution_count": 14,
   "metadata": {},
   "outputs": [
    {
     "name": "stdout",
     "output_type": "stream",
     "text": [
      "done!\n"
     ]
    }
   ],
   "source": [
    "X=ds_train.drop(['label'],axis=1)\n",
    "y=ds_train['label']\n",
    "print(\"done!\")"
   ]
  },
  {
   "cell_type": "code",
   "execution_count": 15,
   "metadata": {},
   "outputs": [
    {
     "data": {
      "text/plain": [
       "<matplotlib.axes._subplots.AxesSubplot at 0x280ad11d488>"
      ]
     },
     "execution_count": 15,
     "metadata": {},
     "output_type": "execute_result"
    },
    {
     "data": {
      "image/png": "[encoded data removed]",
      "text/plain": [
       "<Figure size 432x288 with 1 Axes>"
      ]
     },
     "metadata": {
      "needs_background": "light"
     },
     "output_type": "display_data"
    }
   ],
   "source": [
    "#查看数据分布\n",
    "sns.countplot(y)"
   ]
  },
  {
   "cell_type": "code",
   "execution_count": 16,
   "metadata": {},
   "outputs": [],
   "source": [
    "X=X/255.0\n",
    "ds_test=ds_test/255.0"
   ]
  },
  {
   "cell_type": "code",
   "execution_count": 17,
   "metadata": {},
   "outputs": [],
   "source": [
    "X = X.values.reshape(-1,28,28,1)\n",
    "ds_test = ds_test.values.reshape(-1,28,28,1)"
   ]
  },
  {
   "cell_type": "code",
   "execution_count": 18,
   "metadata": {},
   "outputs": [
    {
     "data": {
      "image/png": "[encoded data removed]",
      "text/plain": [
       "<Figure size 1440x360 with 5 Axes>"
      ]
     },
     "metadata": {
      "needs_background": "light"
     },
     "output_type": "display_data"
    }
   ],
   "source": [
    "fig,axs=plt.subplots(1,5,figsize=(20,5))#画图，可删除\n",
    "fig.tight_layout()#填充\n",
    "\n",
    "for i in range(5):\n",
    "    axs[i].imshow(X[i].reshape(28,28))\n",
    "    axs[i].axis('off')\n",
    "    axs[i].set_title(y[i])\n",
    "plt.show()"
   ]
  },
  {
   "cell_type": "code",
   "execution_count": 19,
   "metadata": {},
   "outputs": [],
   "source": [
    "X_train, X_test, y_train, y_test = train_test_split(X, y, test_size = 0.12, random_state=4)"
   ]
  },
  {
   "cell_type": "code",
   "execution_count": 20,
   "metadata": {},
   "outputs": [
    {
     "data": {
      "text/plain": [
       "36960"
      ]
     },
     "execution_count": 20,
     "metadata": {},
     "output_type": "execute_result"
    }
   ],
   "source": [
    "len(X_train) #we will set batch size to 56 and step per epouch to 660"
   ]
  },
  {
   "cell_type": "code",
   "execution_count": 21,
   "metadata": {},
   "outputs": [],
   "source": [
    "dataGen= ImageDataGenerator(width_shift_range=0.1,   \n",
    "                            height_shift_range=0.1,\n",
    "                            zoom_range=0.2,  \n",
    "                            shear_range=0.1, \n",
    "                            rotation_range=10)  \n",
    "dataGen.fit(X_train)"
   ]
  },
  {
   "cell_type": "code",
   "execution_count": 22,
   "metadata": {},
   "outputs": [],
   "source": [
    "batches= dataGen.flow(X_train,y_train,batch_size=20)#数据增强，批量数据大小为20，调32\n",
    "X_batch,y_batch = next(batches)"
   ]
  },
  {
   "cell_type": "code",
   "execution_count": 23,
   "metadata": {},
   "outputs": [
    {
     "data": {
      "image/png": "[encoded data removed]",
      "text/plain": [
       "<Figure size 1440x360 with 5 Axes>"
      ]
     },
     "metadata": {
      "needs_background": "light"
     },
     "output_type": "display_data"
    }
   ],
   "source": [
    "#画图，可删除\n",
    "fig,axs=plt.subplots(1,5,figsize=(20,5))\n",
    "fig.tight_layout()\n",
    "\n",
    "for i in range(5):\n",
    "    axs[i].imshow(X_batch[i].reshape(28,28))\n",
    "    axs[i].axis('off')\n",
    "    axs[i].set_title(y_batch[i])\n",
    "plt.show()"
   ]
  },
  {
   "cell_type": "code",
   "execution_count": 24,
   "metadata": {},
   "outputs": [],
   "source": [
    "#独热编码\n",
    "y_train = to_categorical(y_train,10)\n",
    "y_test = to_categorical(y_test,10)"
   ]
  },
  {
   "cell_type": "code",
   "execution_count": 25,
   "metadata": {},
   "outputs": [],
   "source": [
    "model = Sequential()\n",
    "\n",
    "#First\n",
    "model.add(Conv2D(filters = 64, kernel_size = (3,3) ,activation ='relu', input_shape = (28,28,1)))\n",
    "model.add(Conv2D(filters = 56, kernel_size = (3,3),activation ='relu'))\n",
    "model.add(BatchNormalization())\n",
    "model.add(MaxPool2D(pool_size=(2,2)))#取样\n",
    "model.add(Dropout(0.2))\n",
    "\n",
    "#Second\n",
    "model.add(Conv2D(filters = 64, kernel_size = (3,3),activation ='relu'))\n",
    "model.add(Conv2D(filters = 48, kernel_size = (3,3),activation ='relu'))\n",
    "model.add(Conv2D(filters = 32, kernel_size = (3,3),activation ='relu'))\n",
    "model.add(BatchNormalization())\n",
    "model.add(MaxPool2D(pool_size=(2,2)))\n",
    "model.add(Dropout(0.2))\n",
    "\n",
    "#Third\n",
    "model.add(Flatten())# 全连接层,展开操作，压平\n",
    "model.add(Dense(256, activation = \"relu\"))\n",
    "model.add(Dense(128, activation = \"relu\"))\n",
    "model.add(Dense(64, activation = \"relu\"))\n",
    "model.add(Dropout(0.4))\n",
    "\n",
    "#Output\n",
    "model.add(Dense(10, activation = \"softmax\"))\n",
    "\n",
    "\n",
    "model.compile(Adam(lr=0.001),loss='categorical_crossentropy',metrics=['accuracy'])"
   ]
  },
  {
   "cell_type": "code",
   "execution_count": 26,
   "metadata": {},
   "outputs": [
    {
     "name": "stdout",
     "output_type": "stream",
     "text": [
      "Model: \"sequential_1\"\n",
      "_________________________________________________________________\n",
      "Layer (type)                 Output Shape              Param #   \n",
      "=================================================================\n",
      "conv2d_1 (Conv2D)            (None, 26, 26, 64)        640       \n",
      "_________________________________________________________________\n",
      "conv2d_2 (Conv2D)            (None, 24, 24, 56)        32312     \n",
      "_________________________________________________________________\n",
      "batch_normalization_1 (Batch (None, 24, 24, 56)        224       \n",
      "_________________________________________________________________\n",
      "max_pooling2d_1 (MaxPooling2 (None, 12, 12, 56)        0         \n",
      "_________________________________________________________________\n",
      "dropout_1 (Dropout)          (None, 12, 12, 56)        0         \n",
      "_________________________________________________________________\n",
      "conv2d_3 (Conv2D)            (None, 10, 10, 64)        32320     \n",
      "_________________________________________________________________\n",
      "conv2d_4 (Conv2D)            (None, 8, 8, 48)          27696     \n",
      "_________________________________________________________________\n",
      "conv2d_5 (Conv2D)            (None, 6, 6, 32)          13856     \n",
      "_________________________________________________________________\n",
      "batch_normalization_2 (Batch (None, 6, 6, 32)          128       \n",
      "_________________________________________________________________\n",
      "max_pooling2d_2 (MaxPooling2 (None, 3, 3, 32)          0         \n",
      "_________________________________________________________________\n",
      "dropout_2 (Dropout)          (None, 3, 3, 32)          0         \n",
      "_________________________________________________________________\n",
      "flatten_1 (Flatten)          (None, 288)               0         \n",
      "_________________________________________________________________\n",
      "dense_1 (Dense)              (None, 256)               73984     \n",
      "_________________________________________________________________\n",
      "dense_2 (Dense)              (None, 128)               32896     \n",
      "_________________________________________________________________\n",
      "dense_3 (Dense)              (None, 64)                8256      \n",
      "_________________________________________________________________\n",
      "dropout_3 (Dropout)          (None, 64)                0         \n",
      "_________________________________________________________________\n",
      "dense_4 (Dense)              (None, 10)                650       \n",
      "=================================================================\n",
      "Total params: 222,962\n",
      "Trainable params: 222,786\n",
      "Non-trainable params: 176\n",
      "_________________________________________________________________\n",
      "None\n"
     ]
    }
   ],
   "source": [
    "print(model.summary())"
   ]
  },
  {
   "cell_type": "code",
   "execution_count": 27,
   "metadata": {},
   "outputs": [
    {
     "name": "stdout",
     "output_type": "stream",
     "text": [
      "Epoch 1/10\n",
      " - 103s - loss: 0.5471 - accuracy: 0.8301 - val_loss: 0.0846 - val_accuracy: 0.9748\n",
      "Epoch 2/10\n",
      " - 100s - loss: 0.1626 - accuracy: 0.9563 - val_loss: 0.0709 - val_accuracy: 0.9808\n",
      "Epoch 3/10\n",
      " - 101s - loss: 0.1286 - accuracy: 0.9670 - val_loss: 0.0617 - val_accuracy: 0.9806\n",
      "Epoch 4/10\n",
      " - 105s - loss: 0.1027 - accuracy: 0.9728 - val_loss: 0.0583 - val_accuracy: 0.9853\n",
      "Epoch 5/10\n",
      " - 102s - loss: 0.0897 - accuracy: 0.9761 - val_loss: 0.0589 - val_accuracy: 0.9849\n",
      "Epoch 6/10\n",
      " - 100s - loss: 0.0830 - accuracy: 0.9787 - val_loss: 0.0683 - val_accuracy: 0.9827\n",
      "Epoch 7/10\n",
      " - 100s - loss: 0.0782 - accuracy: 0.9795 - val_loss: 0.0446 - val_accuracy: 0.9885\n",
      "Epoch 8/10\n",
      " - 100s - loss: 0.0709 - accuracy: 0.9810 - val_loss: 0.0335 - val_accuracy: 0.9901\n",
      "Epoch 9/10\n",
      " - 100s - loss: 0.0647 - accuracy: 0.9838 - val_loss: 0.0474 - val_accuracy: 0.9875\n",
      "Epoch 10/10\n",
      " - 100s - loss: 0.0664 - accuracy: 0.9820 - val_loss: 0.0494 - val_accuracy: 0.9875\n"
     ]
    }
   ],
   "source": [
    "#you can set more than 10 epochs to get more accuracy \n",
    "history = model.fit_generator(dataGen.flow(X_train,y_train, batch_size=56),\n",
    "                              epochs = 10, validation_data = (X_test,y_test),\n",
    "                              verbose = 2, steps_per_epoch=660)\n",
    "\n",
    "\n",
    "# For 10 epochs we get \n",
    "#  loss: 0.0614 \n",
    "#  accuracy: 0.9838 \n",
    "#  val_loss: 0.0364 \n",
    "#  val_accuracy: 0.9921"
   ]
  },
  {
   "cell_type": "code",
   "execution_count": 29,
   "metadata": {},
   "outputs": [
    {
     "name": "stdout",
     "output_type": "stream",
     "text": [
      "Test Score: 0.04944147032953287\n",
      "Test Accuracy: 0.987500011920929\n"
     ]
    },
    {
     "data": {
      "text/plain": [
       "<Figure size 432x288 with 0 Axes>"
      ]
     },
     "metadata": {},
     "output_type": "display_data"
    },
    {
     "data": {
      "image/png": "[encoded data removed]",
      "text/plain": [
       "<Figure size 1368x504 with 2 Axes>"
      ]
     },
     "metadata": {
      "needs_background": "light"
     },
     "output_type": "display_data"
    }
   ],
   "source": [
    "#画图\n",
    "plt.figure()\n",
    "fig,(ax1, ax2)=plt.subplots(1,2,figsize=(19,7))\n",
    "ax1.plot(history.history['loss'])\n",
    "ax1.plot(history.history['val_loss'])\n",
    "ax1.legend(['training','validation'])\n",
    "ax1.set_title('loss')\n",
    "ax1.set_xlabel('epoch')\n",
    "\n",
    "ax2.plot(history.history['accuracy'])\n",
    "ax2.plot(history.history['val_accuracy'])\n",
    "ax2.legend(['training','validation'])\n",
    "ax2.set_title('Acurracy')\n",
    "ax2.set_xlabel('epoch')\n",
    "\n",
    "\n",
    "\n",
    "score =model.evaluate(X_test,y_test,verbose=0)\n",
    "print('Test Score:',score[0])\n",
    "print('Test Accuracy:',score[1])"
   ]
  },
  {
   "cell_type": "code",
   "execution_count": 30,
   "metadata": {},
   "outputs": [],
   "source": [
    "results = model.predict(ds_test)\n",
    "\n",
    "results = np.argmax(results,axis = 1)\n",
    "\n",
    "results = pd.Series(results,name=\"Label\")\n",
    "\n",
    "submission = pd.concat([pd.Series(range(1,28001),name = \"ImageId\"),results],axis = 1)\n",
    "\n",
    "submission.to_csv(\"CNN_Digit_Recognizer_202006071506.csv\",index=False)"
   ]
  },
  {
   "cell_type": "code",
   "execution_count": null,
   "metadata": {},
   "outputs": [],
   "source": []
  }
 ],
 "metadata": {
  "kernelspec": {
   "display_name": "Python 3",
   "language": "python",
   "name": "python3"
  },
  "language_info": {
   "codemirror_mode": {
    "name": "ipython",
    "version": 3
   },
   "file_extension": ".py",
   "mimetype": "text/x-python",
   "name": "python",
   "nbconvert_exporter": "python",
   "pygments_lexer": "ipython3",
   "version": "3.7.6"
  }
 },
 "nbformat": 4,
 "nbformat_minor": 4
}
